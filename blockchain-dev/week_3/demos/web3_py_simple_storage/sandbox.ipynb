{
 "cells": [
  {
   "cell_type": "markdown",
   "source": [
    "# Lesson 4️⃣ `Web3.py` Simple Storage"
   ],
   "metadata": {}
  },
  {
   "cell_type": "code",
   "execution_count": 33,
   "source": [
    "import json\n",
    "#!conda install jsonschema==3.2.0\n",
    "from web3 import Web3\n",
    "from solcx import compile_standard, install_solc\n",
    "#install_solc(\"0.6.0\")\n",
    "import pprint\n",
    "import os\n",
    "from dotenv import load_dotenv\n"
   ],
   "outputs": [],
   "metadata": {}
  },
  {
   "cell_type": "code",
   "execution_count": 8,
   "source": [
    "with open(\"./SimpleStorage.sol\", \"r\") as file:\n",
    "    simple_storage_file = file.read()\n",
    "    #print(simple_storage_file)"
   ],
   "outputs": [],
   "metadata": {}
  },
  {
   "cell_type": "code",
   "execution_count": 10,
   "source": [
    "# Solidity source code\n",
    "compiled_sol = compile_standard(\n",
    "    {\n",
    "        \"language\": \"Solidity\",\n",
    "        \"sources\": {\"SimpleStorage.sol\": {\"content\": simple_storage_file}},\n",
    "        \"settings\": {\n",
    "            \"outputSelection\": {\n",
    "                \"*\": {\n",
    "                    \"*\": [\"abi\", \"metadata\", \"evm.bytecode\", \"evm.bytecode.sourceMap\"]\n",
    "                }\n",
    "            }\n",
    "        },\n",
    "    },\n",
    "    solc_version=\"0.6.0\",\n",
    ")"
   ],
   "outputs": [],
   "metadata": {}
  },
  {
   "cell_type": "code",
   "execution_count": 11,
   "source": [
    "pp = pprint.PrettyPrinter(indent=1)\n",
    "#pp.pprint(compiled_sol)"
   ],
   "outputs": [],
   "metadata": {}
  },
  {
   "cell_type": "code",
   "execution_count": 12,
   "source": [
    "with open(\"compiled_code.json\", \"w\") as file:\n",
    "    json.dump(compiled_sol, file)"
   ],
   "outputs": [],
   "metadata": {}
  },
  {
   "cell_type": "code",
   "execution_count": 13,
   "source": [
    "# get bytecode\n",
    "bytecode = compiled_sol[\"contracts\"][\"SimpleStorage.sol\"][\"SimpleStorage\"][\"evm\"][\"bytecode\"][\"object\"]\n",
    "bytecode[:100]"
   ],
   "outputs": [
    {
     "output_type": "execute_result",
     "data": {
      "text/plain": [
       "'608060405234801561001057600080fd5b506105aa806100206000396000f3fe608060405234801561001057600080fd5b50'"
      ]
     },
     "metadata": {},
     "execution_count": 13
    }
   ],
   "metadata": {}
  },
  {
   "cell_type": "code",
   "execution_count": 14,
   "source": [
    "# get abi\n",
    "abi = json.loads(compiled_sol[\"contracts\"][\"SimpleStorage.sol\"][\"SimpleStorage\"][\"metadata\"])[\"output\"][\"abi\"]\n",
    "#abi"
   ],
   "outputs": [],
   "metadata": {}
  },
  {
   "cell_type": "code",
   "execution_count": 61,
   "source": [
    "# w3 = Web3(Web3.HTTPProvider(os.getenv(\"RINKEBY_RPC_URL\")))\n",
    "# chain_id = 4\n",
    "#\n",
    "# For connecting to ganache\n",
    "#w3 = Web3(Web3.HTTPProvider(\"http://0.0.0.0:8545\"))\n",
    "w3 = Web3(Web3.HTTPProvider(\"http://127.0.0.1:7545\"))\n",
    "w3 = Web3(Web3.HTTPProvider(\"https://rinkeby.infura.io/v3/352df199ff044272a7fcb535e95351fd\"))\n",
    "#chain_id = 1337#5777\n",
    "chain_id = 4 #<-Rinkeby\n",
    "\n",
    "#my_address = \"0xE6A9fa6AA4874812816b27AfF3c8d4FDa9Bb1fFf\"\n",
    "my_address = \"0xffbD9E870E526F3e28C68A2f95923a17Fd70D52a\" #<--my MetaMask\n",
    "\n",
    "# Load private key from .env\n",
    "load_dotenv()\n",
    "private_key = os.getenv(\"PRIVATE_KEY\")\n",
    "private_key = os.getenv(\"METAMASKPRIVATE_KEY\")"
   ],
   "outputs": [],
   "metadata": {}
  },
  {
   "cell_type": "code",
   "execution_count": 62,
   "source": [
    "# Create the contract in Python\n",
    "SimpleStorage = w3.eth.contract(abi=abi, bytecode=bytecode)\n",
    "print(SimpleStorage)"
   ],
   "outputs": [
    {
     "output_type": "stream",
     "name": "stdout",
     "text": [
      "<class 'web3._utils.datatypes.Contract'>\n"
     ]
    }
   ],
   "metadata": {}
  },
  {
   "cell_type": "code",
   "execution_count": 63,
   "source": [
    "# Get the latest transaction\n",
    "nonce = w3.eth.getTransactionCount(my_address)\n",
    "print(nonce)"
   ],
   "outputs": [
    {
     "output_type": "stream",
     "name": "stdout",
     "text": [
      "3\n"
     ]
    }
   ],
   "metadata": {}
  },
  {
   "cell_type": "code",
   "execution_count": 64,
   "source": [
    "# 1. Build transaction\n",
    "# 2. Sign \"\n",
    "# 3. Send \"\n",
    "\n",
    "# Submit the transaction that deploys the contract\n",
    "transaction = SimpleStorage.constructor().buildTransaction(\n",
    "    {\n",
    "        \"chainId\": chain_id,\n",
    "        \"gasPrice\": w3.eth.gas_price,\n",
    "        \"from\": my_address,\n",
    "        \"nonce\": nonce,\n",
    "    }\n",
    ")"
   ],
   "outputs": [],
   "metadata": {}
  },
  {
   "cell_type": "code",
   "execution_count": 65,
   "source": [
    "print(transaction)"
   ],
   "outputs": [
    {
     "output_type": "stream",
     "name": "stdout",
     "text": [
      "{'value': 0, 'gas': 366119, 'chainId': 4, 'gasPrice': 1000000024, 'from': '0xffbD9E870E526F3e28C68A2f95923a17Fd70D52a', 'nonce': 3, 'data': '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', 'to': b''}\n"
     ]
    }
   ],
   "metadata": {}
  },
  {
   "cell_type": "code",
   "execution_count": 66,
   "source": [
    "# Sign the transaction\n",
    "signed_txn = w3.eth.account.sign_transaction(transaction, private_key=private_key)\n",
    "print(\"Deploying Contract!\")"
   ],
   "outputs": [
    {
     "output_type": "stream",
     "name": "stdout",
     "text": [
      "Deploying Contract!\n"
     ]
    }
   ],
   "metadata": {}
  },
  {
   "cell_type": "code",
   "execution_count": 67,
   "source": [
    "# Send it!\n",
    "tx_hash = w3.eth.send_raw_transaction(signed_txn.rawTransaction)"
   ],
   "outputs": [],
   "metadata": {}
  },
  {
   "cell_type": "code",
   "execution_count": 68,
   "source": [
    "# Wait for the transaction to be mined, and get the transaction receipt\n",
    "print(\"Waiting for transaction to finish...\")\n",
    "tx_receipt = w3.eth.wait_for_transaction_receipt(tx_hash)\n",
    "print(f\"Done! Contract deployed to {tx_receipt.contractAddress}\")"
   ],
   "outputs": [
    {
     "output_type": "stream",
     "name": "stdout",
     "text": [
      "Waiting for transaction to finish...\n",
      "Done! Contract deployed to 0x26AD8d7740eD4595ea41557934ECb6d909297197\n"
     ]
    }
   ],
   "metadata": {}
  },
  {
   "cell_type": "markdown",
   "source": [
    "- `call` 👈🏻 simulates making a call, i.e. grabbing data from blockchain\n",
    "- `transact` 👈🏻 simulates transactions in block chain, i.e. make a state change\n",
    "\n"
   ],
   "metadata": {}
  },
  {
   "cell_type": "code",
   "execution_count": 69,
   "source": [
    "# Working with deployed Contracts\n",
    "simple_storage = w3.eth.contract(address=tx_receipt.contractAddress, abi=abi)\n",
    "print(f\"Initial Stored Value {simple_storage.functions.retrieve().call()}\") #<-call\n",
    "\n",
    "greeting_transaction = simple_storage.functions.store(15).buildTransaction(\n",
    "    {\n",
    "        \"chainId\": chain_id,\n",
    "        \"gasPrice\": w3.eth.gas_price,\n",
    "        \"from\": my_address,\n",
    "        \"nonce\": nonce + 1,\n",
    "    }\n",
    ")\n",
    "\n",
    "signed_greeting_txn = w3.eth.account.sign_transaction(\n",
    "    greeting_transaction, private_key=private_key\n",
    ")\n",
    "\n",
    "tx_greeting_hash = w3.eth.send_raw_transaction(signed_greeting_txn.rawTransaction)\n",
    "print(\"Updating stored Value...\")\n",
    "\n",
    "tx_receipt = w3.eth.wait_for_transaction_receipt(tx_greeting_hash)\n",
    "print(simple_storage.functions.retrieve().call())"
   ],
   "outputs": [
    {
     "output_type": "stream",
     "name": "stdout",
     "text": [
      "Initial Stored Value 0\n",
      "Updating stored Value...\n",
      "15\n"
     ]
    }
   ],
   "metadata": {}
  },
  {
   "cell_type": "code",
   "execution_count": null,
   "source": [],
   "outputs": [],
   "metadata": {}
  },
  {
   "cell_type": "markdown",
   "source": [
    "## Results\n",
    "On Etherscan (with my MetaMask Account) https://rinkeby.etherscan.io/address/0xffbD9E870E526F3e28C68A2f95923a17Fd70D52a:\n",
    "[](screenshot_1.png)"
   ],
   "metadata": {}
  },
  {
   "cell_type": "markdown",
   "source": [
    "--- \n",
    "# Installation ⚙️"
   ],
   "metadata": {}
  },
  {
   "cell_type": "markdown",
   "source": [
    "### Install Ganache CLI\n",
    "1. `node --version` #check node is installed\n",
    "1. `npm install --global yarn`\n",
    "2. `yarn --version` #check installation\n",
    "4. `yarn global add ganache-cli`\n",
    "5. `ganache-cli --version` #check installation"
   ],
   "metadata": {}
  },
  {
   "cell_type": "code",
   "execution_count": 53,
   "source": [
    "!ganache-cli"
   ],
   "outputs": [
    {
     "output_type": "stream",
     "name": "stdout",
     "text": [
      "Ganache CLI v6.12.2 (ganache-core: 2.13.2)\n",
      "Error: listen EADDRINUSE: address already in use 127.0.0.1:8545\n",
      "    at Server.setupListenHandle [as _listen2] (net.js:1300:14)\n",
      "    at listenInCluster (net.js:1348:12)\n",
      "    at doListen (net.js:1487:7)\n",
      "    at processTicksAndRejections (internal/process/task_queues.js:81:21)\n"
     ]
    }
   ],
   "metadata": {}
  },
  {
   "cell_type": "markdown",
   "source": [],
   "metadata": {}
  }
 ],
 "metadata": {
  "orig_nbformat": 4,
  "language_info": {
   "name": "python",
   "version": "3.9.7",
   "mimetype": "text/x-python",
   "codemirror_mode": {
    "name": "ipython",
    "version": 3
   },
   "pygments_lexer": "ipython3",
   "nbconvert_exporter": "python",
   "file_extension": ".py"
  },
  "kernelspec": {
   "name": "python3",
   "display_name": "Python 3.9.7 64-bit ('DataScience': conda)"
  },
  "interpreter": {
   "hash": "ebd19621c3c5e2168748c8eeb47d74470c6c62cc290442347b68e602537f054d"
  }
 },
 "nbformat": 4,
 "nbformat_minor": 2
}