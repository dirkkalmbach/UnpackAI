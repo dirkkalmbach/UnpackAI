{
 "cells": [
  {
   "cell_type": "markdown",
   "metadata": {},
   "source": [
    "# Pixel Similarity (Notebook)\n",
    "Supporting `Python` code for my **Medium article** and my **Presentation** for the UnpackAI week 5 deliverable."
   ]
  },
  {
   "cell_type": "markdown",
   "metadata": {},
   "source": [
    ">🚫 This notebook is not refactored yet, i.e. repeated code, bad variable names, lack of comments, etc. - so it might be hard for you to follow the code. However, you can run the cells from top to buttom. The data will be downloaded and stored in your root directory."
   ]
  },
  {
   "cell_type": "markdown",
   "metadata": {},
   "source": [
    "### Import Libraries"
   ]
  },
  {
   "cell_type": "code",
   "execution_count": 1,
   "metadata": {},
   "outputs": [],
   "source": [
    "#dont change the order of importing!!\n",
    "import torch.nn.functional as F\n",
    "import fastbook\n",
    "fastbook.setup_book()\n",
    "from fastai.vision.all import *\n",
    "from fastbook import *\n",
    "import numpy as np\n",
    "import seaborn as sns\n",
    "from sklearn import datasets, svm, metrics\n",
    "from sklearn.metrics import confusion_matrix\n",
    "matplotlib.rc('image', cmap='Greys')\n",
    "%matplotlib inline"
   ]
  },
  {
   "cell_type": "markdown",
   "metadata": {},
   "source": [
    "# Getting Data"
   ]
  },
  {
   "cell_type": "code",
   "execution_count": 2,
   "metadata": {},
   "outputs": [
    {
     "data": {
      "text/plain": [
       "(#2) [Path('training'),Path('testing')]"
      ]
     },
     "execution_count": 2,
     "metadata": {},
     "output_type": "execute_result"
    }
   ],
   "source": [
    "# Download MNIST dataset\n",
    "path = untar_data(URLs.MNIST)\n",
    "Path.BASE_PATH = path\n",
    "path.ls()"
   ]
  },
  {
   "cell_type": "code",
   "execution_count": 3,
   "metadata": {},
   "outputs": [
    {
     "data": {
      "text/plain": [
       "(#6131) [Path('training/3/49081.png'),Path('training/3/51816.png'),Path('training/3/39566.png'),Path('training/3/24251.png'),Path('training/3/20989.png'),Path('training/3/29013.png'),Path('training/3/58832.png'),Path('training/3/9294.png'),Path('training/3/20023.png'),Path('training/3/36899.png')...]"
      ]
     },
     "execution_count": 3,
     "metadata": {},
     "output_type": "execute_result"
    }
   ],
   "source": [
    "(path/\"training\"/\"3\").ls()"
   ]
  },
  {
   "cell_type": "code",
   "execution_count": 4,
   "metadata": {},
   "outputs": [
    {
     "name": "stdout",
     "output_type": "stream",
     "text": [
      "\u001b[34m0\u001b[m\u001b[m \u001b[34m1\u001b[m\u001b[m \u001b[34m2\u001b[m\u001b[m \u001b[34m3\u001b[m\u001b[m \u001b[34m4\u001b[m\u001b[m \u001b[34m5\u001b[m\u001b[m \u001b[34m6\u001b[m\u001b[m \u001b[34m7\u001b[m\u001b[m \u001b[34m8\u001b[m\u001b[m \u001b[34m9\u001b[m\u001b[m\n"
     ]
    }
   ],
   "source": [
    "# Folder where data is stored on your computer\n",
    "!ls ~/.fastai/data/mnist_png/training\n",
    "#!ls ~/.fastai/data/mnist_png/training/0"
   ]
  },
  {
   "cell_type": "code",
   "execution_count": 5,
   "metadata": {},
   "outputs": [
    {
     "data": {
      "image/png": "[encoded data removed]",
      "text/plain": [
       "<PIL.PngImagePlugin.PngImageFile image mode=L size=28x28 at 0x7FB530B4FAC0>"
      ]
     },
     "execution_count": 5,
     "metadata": {},
     "output_type": "execute_result"
    }
   ],
   "source": [
    "threes=(path/\"training\"/\"3\").ls()\n",
    "im3_path = threes[1]\n",
    "Image.open(im3_path)"
   ]
  },
  {
   "cell_type": "code",
   "execution_count": 6,
   "metadata": {},
   "outputs": [],
   "source": [
    "# Create Training Dataset for Demonstration\n",
    "d = {}\n",
    "n=0\n",
    "#numbers = [zeros, ones, twos, threes, fours, fives, sixs, sevens, eights, nines]\n",
    "numbers = \"zeros,ones,twos,threes,fours,fives,sixs,sevens,eights,nines\".split(\",\")\n",
    "for number in numbers:\n",
    "    var_name = \"{}\".format(number)\n",
    "    d[var_name] = (path/'training'/str(n)).ls().sorted()[:100]\n",
    "    n+=1\n",
    "    d[var_name] = [tensor(Image.open(o)) for o in d[var_name]]"
   ]
  },
  {
   "cell_type": "code",
   "execution_count": 7,
   "metadata": {},
   "outputs": [
    {
     "name": "stdout",
     "output_type": "stream",
     "text": [
      "/Users/dirkkalmbach/Library/Mobile Documents/com~apple~CloudDocs/Projekte/🎖🎓 Unpack AI/UnpackAI/dl101/week_5\n"
     ]
    }
   ],
   "source": [
    "!pwd"
   ]
  },
  {
   "cell_type": "markdown",
   "metadata": {},
   "source": [
    "### Visualize the data"
   ]
  },
  {
   "cell_type": "code",
   "execution_count": 8,
   "metadata": {},
   "outputs": [
    {
     "data": {
      "image/png": "[encoded data removed]",
      "text/plain": [
       "<Figure size 432x288 with 1 Axes>"
      ]
     },
     "metadata": {
      "needs_background": "light"
     },
     "output_type": "display_data"
    }
   ],
   "source": [
    "from matplotlib import pyplot as plt\n",
    "plt.imshow(d[\"threes\"][0])\n",
    "plt.show()"
   ]
  },
  {
   "cell_type": "code",
   "execution_count": 9,
   "metadata": {},
   "outputs": [
    {
     "data": {
      "image/png": "[encoded data removed]",
      "text/plain": [
       "<Figure size 1440x576 with 10 Axes>"
      ]
     },
     "metadata": {
      "needs_background": "light"
     },
     "output_type": "display_data"
    }
   ],
   "source": [
    "h=[]\n",
    "for number in numbers:\n",
    "    t=d[number][9]\n",
    "    h.append(t)\n",
    "    \n",
    "fig, axes = plt.subplots(nrows=1, ncols=10, figsize=(20,8))\n",
    "for i in range(0,10):\n",
    "    axes[i].imshow(h[i])"
   ]
  },
  {
   "cell_type": "code",
   "execution_count": 10,
   "metadata": {},
   "outputs": [
    {
     "data": {
      "image/png": "[encoded data removed]",
      "text/plain": [
       "<Figure size 432x288 with 1 Axes>"
      ]
     },
     "metadata": {
      "needs_background": "light"
     },
     "output_type": "display_data"
    }
   ],
   "source": [
    "plt.imshow(h[8]);"
   ]
  },
  {
   "cell_type": "markdown",
   "metadata": {},
   "source": [
    "## Create Dataset for Testing\n",
    ">🧐 So we don't have to touch the training data (the data we build the _ideal_ digits from) when we calculate the classification accuracy."
   ]
  },
  {
   "cell_type": "code",
   "execution_count": 11,
   "metadata": {},
   "outputs": [],
   "source": [
    "# Create Dataset for Testing our results \n",
    "d_test = {}\n",
    "n=0\n",
    "numbers = \"zeros,ones,twos,threes,fours,fives,sixs,sevens,eights,nines\".split(\",\")\n",
    "for number in numbers:\n",
    "    var_name = \"{}\".format(number)\n",
    "    d_test[var_name] = (path/'testing'/str(n)).ls().sorted()[:100] #<-now: /testing instead of /training\n",
    "    n+=1\n",
    "    d_test[var_name] = [tensor(Image.open(o)) for o in d_test[var_name]]"
   ]
  },
  {
   "cell_type": "markdown",
   "metadata": {},
   "source": [
    "# Pixel Similarity"
   ]
  },
  {
   "cell_type": "markdown",
   "metadata": {},
   "source": [
    "## 1. Build _ideal_ target digits for classifying images"
   ]
  },
  {
   "cell_type": "code",
   "execution_count": 12,
   "metadata": {},
   "outputs": [
    {
     "data": {
      "image/png": "[encoded data removed]",
      "text/plain": [
       "<Figure size 1440x576 with 10 Axes>"
      ]
     },
     "metadata": {
      "needs_background": "light"
     },
     "output_type": "display_data"
    }
   ],
   "source": [
    "# Print \"ideal\" digits\n",
    "h=[]\n",
    "for number in numbers:\n",
    "    t=d[number][0]/255\n",
    "    for i in range(len(d[number])):\n",
    "        t+=d[number][i]/255\n",
    "    h.append(t)\n",
    "fig, axes = plt.subplots(nrows=1, ncols=10, figsize=(20,8))\n",
    "for i in range(0,10):\n",
    "    axes[i].imshow(h[i])"
   ]
  },
  {
   "cell_type": "code",
   "execution_count": 13,
   "metadata": {},
   "outputs": [
    {
     "name": "stderr",
     "output_type": "stream",
     "text": [
      "<ipython-input-13-29781c24a83e>:3: UserWarning: To copy construct from a tensor, it is recommended to use sourceTensor.clone().detach() or sourceTensor.clone().detach().requires_grad_(True), rather than torch.tensor(sourceTensor).\n",
      "  tensor = torch.tensor(h[2], dtype=torch.int8)\n"
     ]
    },
    {
     "data": {
      "text/plain": [
       "tensor([[ 0,  0,  0,  0,  0,  0,  0,  0,  0,  0,  0,  0,  0,  0,  0,  0,  0,  0,  0,  0,  0,  0,  0,  0,  0,  0,  0,  0],\n",
       "        [ 0,  0,  0,  0,  0,  0,  0,  0,  0,  0,  0,  0,  0,  0,  0,  0,  0,  0,  0,  0,  0,  0,  0,  0,  0,  0,  0,  0],\n",
       "        [ 0,  0,  0,  0,  0,  0,  0,  0,  0,  0,  0,  0,  0,  0,  1,  1,  0,  0,  0,  0,  0,  0,  0,  0,  0,  0,  0,  0],\n",
       "        [ 0,  0,  0,  0,  0,  0,  0,  1,  1,  2,  4,  7, 12, 14, 16, 16, 15, 12,  8,  6,  4,  2,  1,  0,  0,  0,  0,  0],\n",
       "        [ 0,  0,  0,  0,  0,  0,  0,  2,  5, 11, 18, 30, 39, 46, 50, 49, 47, 38, 31, 23, 13,  6,  3,  0,  0,  0,  0,  0],\n",
       "        [ 0,  0,  0,  0,  0,  0,  1,  7, 15, 25, 35, 44, 56, 61, 63, 65, 65, 60, 48, 40, 29, 14,  6,  1,  0,  0,  0,  0],\n",
       "        [ 0,  0,  0,  0,  0,  0,  4, 12, 21, 30, 39, 47, 53, 56, 58, 64, 66, 64, 57, 47, 38, 21,  7,  2,  0,  0,  0,  0],\n",
       "        [ 0,  0,  0,  0,  0,  2,  5, 14, 20, 28, 35, 39, 45, 47, 52, 52, 52, 53, 54, 52, 40, 27,  8,  3,  0,  0,  0,  0],\n",
       "        [ 0,  0,  0,  0,  0,  4,  7, 10, 15, 23, 25, 28, 29, 34, 39, 40, 41, 47, 47, 52, 42, 28,  9,  3,  0,  0,  0,  0],\n",
       "        [ 0,  0,  0,  0,  0,  3,  5,  6,  9, 13, 13, 15, 18, 22, 21, 22, 31, 44, 50, 54, 42, 25,  9,  2,  0,  0,  0,  0],\n",
       "        [ 0,  0,  0,  0,  0,  1,  4,  4,  4,  7,  8,  9, 11, 12, 11, 17, 32, 48, 55, 56, 41, 20,  7,  1,  0,  0,  0,  0],\n",
       "        [ 0,  0,  0,  0,  0,  0,  1,  1,  1,  3,  4,  5,  6,  6, 10, 20, 37, 55, 61, 54, 35, 16,  5,  0,  0,  0,  0,  0],\n",
       "        [ 0,  0,  0,  0,  0,  0,  0,  0,  0,  1,  1,  2,  3,  7, 14, 28, 48, 61, 61, 49, 29, 13,  3,  0,  1,  0,  0,  0],\n",
       "        [ 0,  0,  0,  0,  0,  0,  0,  0,  1,  2,  3,  5,  9, 14, 25, 42, 55, 64, 55, 41, 22,  9,  3,  1,  1,  0,  0,  0],\n",
       "        [ 0,  0,  0,  0,  0,  0,  1,  4,  7, 12, 15, 19, 22, 30, 45, 56, 60, 58, 48, 31, 15,  5,  2,  2,  1,  0,  0,  0],\n",
       "        [ 0,  0,  0,  0,  0,  2,  9, 16, 26, 35, 40, 46, 52, 62, 69, 70, 62, 53, 41, 25, 12,  6,  4,  4,  2,  1,  0,  0],\n",
       "        [ 0,  0,  0,  0,  3, 12, 21, 34, 43, 50, 58, 66, 73, 79, 78, 71, 63, 55, 41, 27, 19, 14, 12, 10,  4,  2,  0,  0],\n",
       "        [ 0,  0,  0,  1,  9, 22, 36, 45, 50, 57, 64, 71, 75, 77, 76, 69, 63, 59, 46, 34, 25, 22, 19, 13,  6,  2,  0,  0],\n",
       "        [ 0,  0,  0,  4, 16, 31, 42, 48, 52, 55, 64, 68, 69, 71, 67, 66, 63, 55, 49, 43, 39, 36, 25, 18, 10,  2,  0,  0],\n",
       "        [ 0,  0,  0,  8, 20, 34, 46, 52, 60, 67, 71, 70, 66, 60, 58, 56, 54, 46, 44, 46, 47, 42, 34, 21,  8,  3,  0,  0],\n",
       "        [ 0,  0,  0, 10, 19, 35, 49, 60, 71, 75, 77, 71, 62, 53, 49, 45, 40, 38, 36, 35, 37, 32, 25, 16,  8,  3,  0,  0],\n",
       "        [ 0,  0,  1,  6, 17, 30, 44, 56, 64, 65, 61, 56, 49, 44, 36, 31, 32, 33, 32, 28, 24, 18, 14,  7,  2,  1,  0,  0],\n",
       "        [ 0,  0,  0,  2, 10, 17, 25, 33, 39, 42, 41, 34, 30, 25, 20, 18, 21, 23, 19, 12,  9,  7,  5,  3,  1,  0,  0,  0],\n",
       "        [ 0,  0,  0,  0,  1,  5,  8, 12, 13, 13, 13, 11,  8,  7,  6,  6,  7,  7,  5,  3,  2,  3,  3,  1,  0,  0,  0,  0],\n",
       "        [ 0,  0,  0,  0,  0,  0,  0,  1,  2,  2,  3,  3,  2,  2,  2,  2,  2,  0,  0,  0,  0,  0,  0,  0,  0,  0,  0,  0],\n",
       "        [ 0,  0,  0,  0,  0,  0,  0,  0,  0,  0,  0,  0,  0,  0,  0,  0,  0,  0,  0,  0,  0,  0,  0,  0,  0,  0,  0,  0],\n",
       "        [ 0,  0,  0,  0,  0,  0,  0,  0,  0,  0,  0,  0,  0,  0,  0,  0,  0,  0,  0,  0,  0,  0,  0,  0,  0,  0,  0,  0],\n",
       "        [ 0,  0,  0,  0,  0,  0,  0,  0,  0,  0,  0,  0,  0,  0,  0,  0,  0,  0,  0,  0,  0,  0,  0,  0,  0,  0,  0,  0]], dtype=torch.int8)"
      ]
     },
     "execution_count": 13,
     "metadata": {},
     "output_type": "execute_result"
    }
   ],
   "source": [
    "# Example for \"ideal\" digit 2 as a tensor\n",
    "type(h[2])\n",
    "tensor = torch.tensor(h[2], dtype=torch.int8)\n",
    "tensor"
   ]
  },
  {
   "cell_type": "markdown",
   "metadata": {},
   "source": [
    "## 2. Calculate Pixel Similarity"
   ]
  },
  {
   "cell_type": "markdown",
   "metadata": {},
   "source": [
    "### Calculate L1-Loss"
   ]
  },
  {
   "cell_type": "code",
   "execution_count": 14,
   "metadata": {},
   "outputs": [
    {
     "data": {
      "image/png": "[encoded data removed]",
      "text/plain": [
       "<Figure size 1440x576 with 10 Axes>"
      ]
     },
     "metadata": {
      "needs_background": "light"
     },
     "output_type": "display_data"
    },
    {
     "data": {
      "image/png": "[encoded data removed]",
      "text/plain": [
       "<Figure size 1440x576 with 10 Axes>"
      ]
     },
     "metadata": {
      "needs_background": "light"
     },
     "output_type": "display_data"
    }
   ],
   "source": [
    "# Calculate L1-Loss\n",
    "result=[]\n",
    "zero = d_test[\"zeros\"][5]\n",
    "for i in range(0,10):\n",
    "    result.append(int(F.l1_loss(h[i].float(), zero)))\n",
    "\n",
    "#print(*result, sep='\\t')\n",
    "\n",
    "# Print \"ideal\" digits\n",
    "h=[]\n",
    "for number in numbers:\n",
    "    t=d[number][0]/255\n",
    "    for i in range(len(d[number])):\n",
    "        t+=d[number][i]/255\n",
    "    h.append(t)\n",
    "# Plot 10x image to be classified\n",
    "fig, axes = plt.subplots(nrows=1, ncols=10, figsize=(20,8))\n",
    "for i in range(0,10):\n",
    "    axes[i].imshow(d_test[\"zeros\"][4])\n",
    "# Plot ideal images of digit with L1-Loss\n",
    "fig, axes = plt.subplots(nrows=1, ncols=10, figsize=(20,8))\n",
    "for i in range(0,10):\n",
    "    axes[i].imshow(h[i])\n",
    "    axes[i].set_title(\"L1={}\".format(result[i]))"
   ]
  },
  {
   "cell_type": "code",
   "execution_count": 15,
   "metadata": {},
   "outputs": [
    {
     "data": {
      "image/png": "[encoded data removed]",
      "text/plain": [
       "<Figure size 1440x576 with 10 Axes>"
      ]
     },
     "metadata": {
      "needs_background": "light"
     },
     "output_type": "display_data"
    },
    {
     "data": {
      "image/png": "[encoded data removed]",
      "text/plain": [
       "<Figure size 1440x576 with 10 Axes>"
      ]
     },
     "metadata": {
      "needs_background": "light"
     },
     "output_type": "display_data"
    }
   ],
   "source": [
    "# Calculate L1-Loss\n",
    "result=[]\n",
    "zero = d_test[\"eights\"][8]\n",
    "for i in range(0,10):\n",
    "    result.append(int(F.l1_loss(h[i].float(), zero)))\n",
    "#print(*result, sep='\\t')\n",
    "\n",
    "# Print \"ideal\" digits\n",
    "h=[]\n",
    "for number in numbers:\n",
    "    t=d[number][0]/255\n",
    "    for i in range(len(d[number])):\n",
    "        t+=d[number][i]/255\n",
    "    h.append(t)\n",
    "# Plot 10x image to be classified\n",
    "fig, axes = plt.subplots(nrows=1, ncols=10, figsize=(20,8))\n",
    "for i in range(0,10):\n",
    "    axes[i].imshow(d_test[\"eights\"][8])\n",
    "# Plot ideal images of digit with L1-Loss\n",
    "fig, axes = plt.subplots(nrows=1, ncols=10, figsize=(20,8))\n",
    "for i in range(0,10):\n",
    "    axes[i].imshow(h[i])\n",
    "    axes[i].set_title(\"L1={}\".format(result[i]))"
   ]
  },
  {
   "cell_type": "markdown",
   "metadata": {},
   "source": [
    "### Caclulating L1 and L2 without the help of `torch.nn.functional` "
   ]
  },
  {
   "cell_type": "markdown",
   "metadata": {},
   "source": [
    "### Calculating for a single image"
   ]
  },
  {
   "cell_type": "code",
   "execution_count": 16,
   "metadata": {},
   "outputs": [],
   "source": [
    "ideal_digits = h\n",
    "img = d_test[\"threes\"][1]#a_3"
   ]
  },
  {
   "cell_type": "code",
   "execution_count": 17,
   "metadata": {},
   "outputs": [
    {
     "data": {
      "image/png": "[encoded data removed]",
      "text/plain": [
       "<Figure size 432x288 with 1 Axes>"
      ]
     },
     "metadata": {
      "needs_background": "light"
     },
     "output_type": "display_data"
    }
   ],
   "source": [
    "# Sample Image to be classified\n",
    "plt.imshow(img);"
   ]
  },
  {
   "cell_type": "code",
   "execution_count": 18,
   "metadata": {},
   "outputs": [
    {
     "data": {
      "text/plain": [
       "[tensor(44.2404),\n",
       " tensor(44.0219),\n",
       " tensor(46.1260),\n",
       " tensor(41.8001),\n",
       " tensor(46.5060),\n",
       " tensor(42.7080),\n",
       " tensor(44.3475),\n",
       " tensor(45.5552),\n",
       " tensor(45.4974),\n",
       " tensor(45.0498)]"
      ]
     },
     "execution_count": 18,
     "metadata": {},
     "output_type": "execute_result"
    }
   ],
   "source": [
    "# L1 for example img\n",
    "l1=[(img - digit).abs().mean() for digit in ideal_digits]\n",
    "l1 #L1 for every ideal digit 0..9"
   ]
  },
  {
   "cell_type": "code",
   "execution_count": 19,
   "metadata": {},
   "outputs": [
    {
     "data": {
      "text/plain": [
       "3"
      ]
     },
     "execution_count": 19,
     "metadata": {},
     "output_type": "execute_result"
    }
   ],
   "source": [
    "# index of smallest element is digit number\n",
    "np.argmin(l1)"
   ]
  },
  {
   "cell_type": "code",
   "execution_count": 20,
   "metadata": {},
   "outputs": [
    {
     "data": {
      "text/plain": [
       "[tensor(83.5524),\n",
       " tensor(91.7463),\n",
       " tensor(88.1979),\n",
       " tensor(83.2467),\n",
       " tensor(90.5193),\n",
       " tensor(85.2805),\n",
       " tensor(86.3737),\n",
       " tensor(90.3234),\n",
       " tensor(87.1980),\n",
       " tensor(89.5686)]"
      ]
     },
     "execution_count": 20,
     "metadata": {},
     "output_type": "execute_result"
    }
   ],
   "source": [
    "# Example: L2 for img\n",
    "l2=[((img - digit)**2).mean().sqrt() for digit in ideal_digits]\n",
    "l2 #L2 for every ideal digit 0..9"
   ]
  },
  {
   "cell_type": "code",
   "execution_count": 21,
   "metadata": {},
   "outputs": [
    {
     "data": {
      "text/plain": [
       "3"
      ]
     },
     "execution_count": 21,
     "metadata": {},
     "output_type": "execute_result"
    }
   ],
   "source": [
    "# index of smallest element is digit number\n",
    "np.argmin(l2)"
   ]
  },
  {
   "cell_type": "markdown",
   "metadata": {},
   "source": [
    "# Classification of Test Images"
   ]
  },
  {
   "cell_type": "markdown",
   "metadata": {},
   "source": [
    "## L1-Norm Algorithm"
   ]
  },
  {
   "cell_type": "code",
   "execution_count": 22,
   "metadata": {},
   "outputs": [],
   "source": [
    "# Create L1 Loss Confusion Matrix\n",
    "numbers = \"zeros,ones,twos,threes,fours,fives,sixs,sevens,eights,nines\".split(\",\")\n",
    "pred=[]\n",
    "\n",
    "for number in numbers:\n",
    "    for t in d_test[number]:\n",
    "        #mean = h[i]\n",
    "        # calculate loss for every digit\n",
    "        loss=[]\n",
    "        for i in h:\n",
    "            loss.append( float(F.l1_loss(t.float(), i)   ))\n",
    "        # get position of smallest loss (=pred)\n",
    "        xy = np.argmin(loss)\n",
    "        pred.append(xy)\n",
    "        \n",
    "true=[]\n",
    "for i in range(10):\n",
    "    x = [i] * 100\n",
    "    true=true+x"
   ]
  },
  {
   "cell_type": "code",
   "execution_count": 23,
   "metadata": {},
   "outputs": [
    {
     "data": {
      "text/plain": [
       "array([[ 76,   1,   0,   1,   2,   3,  12,   0,   2,   3],\n",
       "       [  0, 100,   0,   0,   0,   0,   0,   0,   0,   0],\n",
       "       [  1,  51,  30,   5,   0,   0,   5,   4,   4,   0],\n",
       "       [  0,  29,   0,  59,   0,   1,   2,   6,   1,   2],\n",
       "       [  0,  12,   0,   0,  51,   0,   4,   0,   0,  33],\n",
       "       [  1,  20,   0,  30,   3,  22,   3,   4,   4,  13],\n",
       "       [  0,  29,   0,   0,   8,   0,  60,   2,   0,   1],\n",
       "       [  0,  25,   1,   0,   0,   0,   0,  62,   0,  12],\n",
       "       [  2,  35,   0,   8,   2,   0,   3,   2,  39,   9],\n",
       "       [  0,   5,   0,   3,   2,   0,   1,   1,   0,  88]])"
      ]
     },
     "execution_count": 23,
     "metadata": {},
     "output_type": "execute_result"
    }
   ],
   "source": [
    "confusion_matrix(true, pred)"
   ]
  },
  {
   "cell_type": "code",
   "execution_count": 24,
   "metadata": {},
   "outputs": [
    {
     "data": {
      "image/png": "[encoded data removed]",
      "text/plain": [
       "<Figure size 432x288 with 2 Axes>"
      ]
     },
     "metadata": {
      "needs_background": "light"
     },
     "output_type": "display_data"
    }
   ],
   "source": [
    "# Plot Confusion matrix\n",
    "cm = confusion_matrix(true, pred) #pred[::-1]\n",
    "f = sns.heatmap(cm)"
   ]
  },
  {
   "cell_type": "code",
   "execution_count": 25,
   "metadata": {},
   "outputs": [
    {
     "name": "stdout",
     "output_type": "stream",
     "text": [
      "Classification report for classifier:\n",
      "              precision    recall  f1-score   support\n",
      "\n",
      "           0       0.95      0.76      0.84       100\n",
      "           1       0.33      1.00      0.49       100\n",
      "           2       0.97      0.30      0.46       100\n",
      "           3       0.56      0.59      0.57       100\n",
      "           4       0.75      0.51      0.61       100\n",
      "           5       0.85      0.22      0.35       100\n",
      "           6       0.67      0.60      0.63       100\n",
      "           7       0.77      0.62      0.69       100\n",
      "           8       0.78      0.39      0.52       100\n",
      "           9       0.55      0.88      0.67       100\n",
      "\n",
      "    accuracy                           0.59      1000\n",
      "   macro avg       0.72      0.59      0.58      1000\n",
      "weighted avg       0.72      0.59      0.58      1000\n",
      "\n",
      "\n"
     ]
    }
   ],
   "source": [
    "print(f\"Classification report for classifier:\\n\"\n",
    "      f\"{metrics.classification_report(true, pred)}\\n\")"
   ]
  },
  {
   "cell_type": "markdown",
   "metadata": {},
   "source": [
    ">### 👨‍🏫 The `L1-Norm` Algorithm brings solid results with an overall accuracy-value of 59%.\n",
    "---"
   ]
  },
  {
   "cell_type": "markdown",
   "metadata": {},
   "source": [
    "## L2-Norm Algorithm"
   ]
  },
  {
   "cell_type": "code",
   "execution_count": 26,
   "metadata": {},
   "outputs": [],
   "source": [
    "# Create L2 Loss Confusion Matrix\n",
    "numbers = \"zeros,ones,twos,threes,fours,fives,sixs,sevens,eights,nines\".split(\",\")\n",
    "pred=[]\n",
    "\n",
    "for number in numbers:\n",
    "    for t in d_test[number]:\n",
    "        #mean = h[i]\n",
    "        # calculate loss for every digit\n",
    "        loss=[]\n",
    "        for i in h:\n",
    "            #loss.append( float(F.l1_loss( t.float(), i)   ))\n",
    "            loss.append( float(F.mse_loss(t.float(), i).sqrt()))\n",
    "        # get position of smallest loss (=pred)\n",
    "        xy = np.argmin(loss)\n",
    "        pred.append(xy)\n",
    "        \n",
    "true=[]\n",
    "for i in range(10):\n",
    "    x = [i] * 100\n",
    "    true=true+x     "
   ]
  },
  {
   "cell_type": "code",
   "execution_count": 27,
   "metadata": {},
   "outputs": [
    {
     "data": {
      "text/plain": [
       "array([[94,  0,  0,  0,  0,  0,  5,  0,  1,  0],\n",
       "       [ 0, 92,  0,  0,  0,  0,  1,  0,  7,  0],\n",
       "       [ 8,  2, 55, 11,  0,  0,  9,  1, 14,  0],\n",
       "       [ 0,  0,  0, 86,  0,  0,  3,  1,  9,  1],\n",
       "       [ 5,  0,  0,  0, 62,  0, 10,  1,  4, 18],\n",
       "       [16,  0,  0, 31,  1,  8,  6,  0, 33,  5],\n",
       "       [11,  1,  3,  0,  3,  0, 81,  0,  1,  0],\n",
       "       [ 3,  6,  5,  1,  1,  0,  0, 64, 10, 10],\n",
       "       [ 4,  0,  0, 15,  1,  0,  2,  2, 76,  0],\n",
       "       [ 3,  0,  1,  5,  7,  1,  1,  3,  6, 73]])"
      ]
     },
     "execution_count": 27,
     "metadata": {},
     "output_type": "execute_result"
    }
   ],
   "source": [
    "confusion_matrix(true, pred)"
   ]
  },
  {
   "cell_type": "code",
   "execution_count": 28,
   "metadata": {},
   "outputs": [
    {
     "data": {
      "image/png": "[encoded data removed]",
      "text/plain": [
       "<Figure size 432x288 with 2 Axes>"
      ]
     },
     "metadata": {
      "needs_background": "light"
     },
     "output_type": "display_data"
    }
   ],
   "source": [
    "# Plot Confusion matrix\n",
    "cm = confusion_matrix(true, pred) #pred[::-1]\n",
    "f = sns.heatmap(cm)"
   ]
  },
  {
   "cell_type": "code",
   "execution_count": 29,
   "metadata": {},
   "outputs": [
    {
     "name": "stdout",
     "output_type": "stream",
     "text": [
      "Classification report for classifier:\n",
      "              precision    recall  f1-score   support\n",
      "\n",
      "           0       0.65      0.94      0.77       100\n",
      "           1       0.91      0.92      0.92       100\n",
      "           2       0.86      0.55      0.67       100\n",
      "           3       0.58      0.86      0.69       100\n",
      "           4       0.83      0.62      0.71       100\n",
      "           5       0.89      0.08      0.15       100\n",
      "           6       0.69      0.81      0.74       100\n",
      "           7       0.89      0.64      0.74       100\n",
      "           8       0.47      0.76      0.58       100\n",
      "           9       0.68      0.73      0.71       100\n",
      "\n",
      "    accuracy                           0.69      1000\n",
      "   macro avg       0.74      0.69      0.67      1000\n",
      "weighted avg       0.74      0.69      0.67      1000\n",
      "\n",
      "\n"
     ]
    }
   ],
   "source": [
    "print(f\"Classification report for classifier:\\n\"\n",
    "      f\"{metrics.classification_report(true, pred)}\\n\")"
   ]
  },
  {
   "cell_type": "markdown",
   "metadata": {},
   "source": [
    ">### 👨‍🏫 The `L2-Norm` Algorithm brings even better results with an overall accuracy-value of 69%.\n",
    "___"
   ]
  },
  {
   "cell_type": "markdown",
   "metadata": {},
   "source": [
    "# Average-Ink Algorithm"
   ]
  },
  {
   "cell_type": "code",
   "execution_count": 30,
   "metadata": {},
   "outputs": [],
   "source": [
    "def average_ink(t):\n",
    "    #average sum of pixelvalues\n",
    "    x=[]\n",
    "    for i in range(0,len(t)):\n",
    "        x.append( int(t[i].sum() ))\n",
    "    return(x)"
   ]
  },
  {
   "cell_type": "code",
   "execution_count": 31,
   "metadata": {},
   "outputs": [],
   "source": [
    "y=[]\n",
    "for number in numbers:\n",
    "    y.append(average_ink(d[number]))"
   ]
  },
  {
   "cell_type": "code",
   "execution_count": 32,
   "metadata": {},
   "outputs": [
    {
     "data": {
      "image/png": "[encoded data removed]",
      "text/plain": [
       "<Figure size 1152x432 with 1 Axes>"
      ]
     },
     "metadata": {
      "needs_background": "light"
     },
     "output_type": "display_data"
    }
   ],
   "source": [
    "# Create Boxplots of Average-Ink\n",
    "plt.figure(figsize=(16,6))\n",
    "plt.boxplot(y)\n",
    "plt.xticks(range(1,11), numbers)\n",
    "plt.title(\"Average-Ink per Image\");"
   ]
  },
  {
   "cell_type": "code",
   "execution_count": 33,
   "metadata": {},
   "outputs": [],
   "source": [
    "def closest(lst, K):\n",
    "    # returns digit (0..9) according to average pixel value\n",
    "    x = lst[min(range(len(lst)), key = lambda i: abs(lst[i]-K))]\n",
    "    return lst.index(x) \n",
    "      \n",
    "# Driver code\n",
    "lst = [np.mean(x) for x in y] #list of mean ink values for 0..9"
   ]
  },
  {
   "cell_type": "code",
   "execution_count": 34,
   "metadata": {},
   "outputs": [],
   "source": [
    "# Get prediction\n",
    "pred=[]\n",
    "true=[]\n",
    "for number in numbers:\n",
    "    for i in d_test[number]:\n",
    "        K = i.sum()\n",
    "        pred.append(closest(lst,K))\n",
    "        true.append(numbers.index(number))\n"
   ]
  },
  {
   "cell_type": "code",
   "execution_count": 35,
   "metadata": {},
   "outputs": [
    {
     "data": {
      "image/png": "[encoded data removed]",
      "text/plain": [
       "<Figure size 432x288 with 2 Axes>"
      ]
     },
     "metadata": {
      "needs_background": "light"
     },
     "output_type": "display_data"
    }
   ],
   "source": [
    "# Plot Confusion matrix\n",
    "cm = confusion_matrix(true, pred)\n",
    "f = sns.heatmap(cm)"
   ]
  },
  {
   "cell_type": "code",
   "execution_count": 36,
   "metadata": {},
   "outputs": [
    {
     "data": {
      "text/plain": [
       "array([[28,  3,  5, 18,  4,  8,  6, 10, 13,  5],\n",
       "       [ 0, 94,  0,  0,  0,  0,  0,  6,  0,  0],\n",
       "       [17, 17,  5, 11,  1,  9,  1, 24,  9,  6],\n",
       "       [10, 26,  2,  9,  5,  2,  0, 30,  9,  7],\n",
       "       [ 6, 43,  3,  5,  4,  5,  1, 21,  8,  4],\n",
       "       [10, 27,  3,  6,  3, 11,  3, 31,  4,  2],\n",
       "       [ 6, 25,  6,  7,  6,  8,  2, 20, 12,  8],\n",
       "       [ 1, 56,  2,  1,  2,  2,  0, 24, 10,  2],\n",
       "       [16, 13,  5, 10,  6, 10,  3, 21, 13,  3],\n",
       "       [ 3, 29,  3,  7,  3, 10,  0, 37,  5,  3]])"
      ]
     },
     "execution_count": 36,
     "metadata": {},
     "output_type": "execute_result"
    }
   ],
   "source": [
    "confusion_matrix(true, pred)"
   ]
  },
  {
   "cell_type": "code",
   "execution_count": 37,
   "metadata": {},
   "outputs": [
    {
     "name": "stdout",
     "output_type": "stream",
     "text": [
      "Classification report for classifier:\n",
      "              precision    recall  f1-score   support\n",
      "\n",
      "           0       0.29      0.28      0.28       100\n",
      "           1       0.28      0.94      0.43       100\n",
      "           2       0.15      0.05      0.07       100\n",
      "           3       0.12      0.09      0.10       100\n",
      "           4       0.12      0.04      0.06       100\n",
      "           5       0.17      0.11      0.13       100\n",
      "           6       0.12      0.02      0.03       100\n",
      "           7       0.11      0.24      0.15       100\n",
      "           8       0.16      0.13      0.14       100\n",
      "           9       0.07      0.03      0.04       100\n",
      "\n",
      "    accuracy                           0.19      1000\n",
      "   macro avg       0.16      0.19      0.15      1000\n",
      "weighted avg       0.16      0.19      0.15      1000\n",
      "\n",
      "\n"
     ]
    }
   ],
   "source": [
    "print(f\"Classification report for classifier:\\n\"\n",
    "      f\"{metrics.classification_report(true, pred)}\\n\")"
   ]
  },
  {
   "cell_type": "markdown",
   "metadata": {},
   "source": [
    ">### 👨‍🏫 The `Average-Ink` Algorithms results are disappointing: the average accuracy is only 19% and probably because of its very simply formula so low.  \n",
    "___"
   ]
  },
  {
   "cell_type": "markdown",
   "metadata": {},
   "source": [
    "# \"Middle-Line\" Ratio"
   ]
  },
  {
   "cell_type": "code",
   "execution_count": 38,
   "metadata": {},
   "outputs": [
    {
     "data": {
      "image/png": "[encoded data removed]",
      "text/plain": [
       "<Figure size 432x288 with 1 Axes>"
      ]
     },
     "metadata": {
      "needs_background": "light"
     },
     "output_type": "display_data"
    }
   ],
   "source": [
    "# Print \"ideal\" 3\n",
    "t=d[\"threes\"][0]/255\n",
    "for i in range(len(d[\"threes\"])):\n",
    "    t+=d[\"threes\"][i]/255\n",
    "plt.imshow(t)\n",
    "plt.hlines(y=14, xmin=0.0, xmax=28, color='b')\n",
    "plt.vlines(x=14, ymin=0.0, ymax=28, color='r')\n",
    "\n",
    "plt.show()"
   ]
  },
  {
   "cell_type": "code",
   "execution_count": 39,
   "metadata": {},
   "outputs": [],
   "source": [
    "# function to calculate middle-line-ratio as above described\n",
    "    \n",
    "def middle_line_ratio(t):\n",
    "    #average sum of pixelvalues\n",
    "    x=[]\n",
    "    for i in t:\n",
    "        x.append( float(i[14].sum()) /  float(i[:,14].sum()) )\n",
    "    return(x)\n",
    "\n",
    "y=[]\n",
    "# create middle_line_ratio for every single digit in every number category\n",
    "for number in numbers:\n",
    "    y.append(middle_line_ratio(d[number]))"
   ]
  },
  {
   "cell_type": "code",
   "execution_count": 40,
   "metadata": {},
   "outputs": [
    {
     "data": {
      "image/png": "[encoded data removed]",
      "text/plain": [
       "<Figure size 1152x432 with 1 Axes>"
      ]
     },
     "metadata": {
      "needs_background": "light"
     },
     "output_type": "display_data"
    }
   ],
   "source": [
    "# Create Boxplots of Middle-Line-Ratios\n",
    "plt.figure(figsize=(16,6))\n",
    "plt.boxplot(y)\n",
    "plt.xticks(range(1,11), numbers)\n",
    "plt.title(\"Middle-Line-Ratios\");"
   ]
  },
  {
   "cell_type": "code",
   "execution_count": 41,
   "metadata": {},
   "outputs": [],
   "source": [
    "def closest(lst, K):\n",
    "    # returns digit (0..9) according to middle-line-ratio algorithm\n",
    "    x = lst[min(range(len(lst)), key = lambda i: abs(lst[i]-K))]\n",
    "    return lst.index(x) \n",
    "      \n",
    "# Driver code\n",
    "lst = [np.mean(x) for x in y] #list of mean ink values for 0..9"
   ]
  },
  {
   "cell_type": "code",
   "execution_count": 42,
   "metadata": {},
   "outputs": [],
   "source": [
    "# Get prediction\n",
    "pred=[]\n",
    "true=[]\n",
    "for number in numbers:\n",
    "    for i in d_test[number]:\n",
    "        #print(type(i))\n",
    "        K = float(i[14].sum()) /  float(i[:,14].sum())\n",
    "        pred.append(closest(lst,K))\n",
    "        true.append(numbers.index(number))\n"
   ]
  },
  {
   "cell_type": "code",
   "execution_count": 43,
   "metadata": {},
   "outputs": [
    {
     "data": {
      "text/plain": [
       "array([[10,  0,  2, 11,  3, 25,  6, 12,  0, 31],\n",
       "       [ 0, 92,  2,  1,  0,  0,  0,  3,  2,  0],\n",
       "       [ 1, 60, 13,  3,  2,  4,  1,  5,  5,  6],\n",
       "       [ 5, 43,  7, 11,  1, 14,  1,  6,  1, 11],\n",
       "       [ 0,  2,  5,  7, 60,  6,  1,  1,  0, 18],\n",
       "       [ 1, 29, 10, 13,  9,  6,  6, 10,  2, 14],\n",
       "       [ 7, 14, 10,  4, 20,  7,  4, 12,  1, 21],\n",
       "       [ 3, 64,  6,  3,  3,  7,  2,  8,  1,  3],\n",
       "       [ 3, 29, 21, 17,  3,  7,  3,  9,  3,  5],\n",
       "       [ 3, 11,  0,  3, 30, 15,  2,  5,  1, 30]])"
      ]
     },
     "execution_count": 43,
     "metadata": {},
     "output_type": "execute_result"
    }
   ],
   "source": [
    "confusion_matrix(true, pred)"
   ]
  },
  {
   "cell_type": "code",
   "execution_count": 44,
   "metadata": {},
   "outputs": [
    {
     "data": {
      "image/png": "[encoded data removed]",
      "text/plain": [
       "<Figure size 432x288 with 2 Axes>"
      ]
     },
     "metadata": {
      "needs_background": "light"
     },
     "output_type": "display_data"
    }
   ],
   "source": [
    "# Plot Confusion matrix\n",
    "cm = confusion_matrix(true, pred) \n",
    "f = sns.heatmap(cm)"
   ]
  },
  {
   "cell_type": "code",
   "execution_count": 45,
   "metadata": {},
   "outputs": [
    {
     "name": "stdout",
     "output_type": "stream",
     "text": [
      "Classification report for classifier:\n",
      "              precision    recall  f1-score   support\n",
      "\n",
      "           0       0.30      0.10      0.15       100\n",
      "           1       0.27      0.92      0.41       100\n",
      "           2       0.17      0.13      0.15       100\n",
      "           3       0.15      0.11      0.13       100\n",
      "           4       0.46      0.60      0.52       100\n",
      "           5       0.07      0.06      0.06       100\n",
      "           6       0.15      0.04      0.06       100\n",
      "           7       0.11      0.08      0.09       100\n",
      "           8       0.19      0.03      0.05       100\n",
      "           9       0.22      0.30      0.25       100\n",
      "\n",
      "    accuracy                           0.24      1000\n",
      "   macro avg       0.21      0.24      0.19      1000\n",
      "weighted avg       0.21      0.24      0.19      1000\n",
      "\n",
      "\n"
     ]
    }
   ],
   "source": [
    "print(f\"Classification report for classifier:\\n\"\n",
    "      f\"{metrics.classification_report(true, pred)}\\n\")"
   ]
  },
  {
   "cell_type": "markdown",
   "metadata": {},
   "source": [
    ">### 👨‍🏫 The `Middle-Line-Ratio` Algorithm is almost as disappointing as the Average-Ink Algorithm. The average accuracy is only 24%.\n",
    "___"
   ]
  },
  {
   "cell_type": "markdown",
   "metadata": {},
   "source": [
    "# \"Random Points\" Algorithm"
   ]
  },
  {
   "cell_type": "markdown",
   "metadata": {},
   "source": [
    "This Algorithms choses simple points (I chose 2 points) and sums its pixel value up. This again gives a ideal target value for every digit 0..9."
   ]
  },
  {
   "cell_type": "code",
   "execution_count": 46,
   "metadata": {},
   "outputs": [
    {
     "data": {
      "image/png": "[encoded data removed]",
      "text/plain": [
       "<Figure size 432x288 with 1 Axes>"
      ]
     },
     "metadata": {
      "needs_background": "light"
     },
     "output_type": "display_data"
    }
   ],
   "source": [
    "# Print \"ideal\" 3\n",
    "t=d[\"threes\"][0]/255\n",
    "for i in range(len(d[\"threes\"])):\n",
    "    t+=d[\"threes\"][i]/255\n",
    "plt.imshow(t)\n",
    "#plt.plot(105,200,'ro')\n",
    "plt.plot(7,7, 'ro')\n",
    "plt.plot(21,14, 'ro')\n",
    "\n",
    "plt.show()"
   ]
  },
  {
   "cell_type": "code",
   "execution_count": 47,
   "metadata": {},
   "outputs": [],
   "source": [
    "# function to calculate Random Points Algorithm as above described\n",
    "    \n",
    "def middle_line_ratio(t):\n",
    "    #average sum of pixelvalues\n",
    "    x=[]\n",
    "    for i in t:\n",
    "        x.append( float(i[7,7].sum()) +  float(i[21,14].sum()) )\n",
    "    return(x)\n",
    "\n",
    "y=[]\n",
    "# create middle_line_ratio for every single digit in every number category\n",
    "for number in numbers:\n",
    "    y.append(middle_line_ratio(d[number]))"
   ]
  },
  {
   "cell_type": "code",
   "execution_count": 48,
   "metadata": {},
   "outputs": [
    {
     "data": {
      "image/png": "[encoded data removed]",
      "text/plain": [
       "<Figure size 1152x432 with 1 Axes>"
      ]
     },
     "metadata": {
      "needs_background": "light"
     },
     "output_type": "display_data"
    }
   ],
   "source": [
    "# Create Boxplots of Random Points\n",
    "plt.figure(figsize=(16,6))\n",
    "plt.boxplot(y)\n",
    "plt.xticks(range(1,11), numbers)\n",
    "plt.title(\"Random Points\");"
   ]
  },
  {
   "cell_type": "code",
   "execution_count": 49,
   "metadata": {},
   "outputs": [],
   "source": [
    "def closest(lst, K):\n",
    "    # returns digit (0..9) according to average pixel value\n",
    "    x = lst[min(range(len(lst)), key = lambda i: abs(lst[i]-K))]\n",
    "    return lst.index(x) \n",
    "      \n",
    "# Driver code\n",
    "lst = [np.mean(x) for x in y] #list of Random Points for 0..9"
   ]
  },
  {
   "cell_type": "code",
   "execution_count": 50,
   "metadata": {},
   "outputs": [],
   "source": [
    "# Get prediction\n",
    "pred=[]\n",
    "true=[]\n",
    "for number in numbers:\n",
    "    for i in d_test[number]:\n",
    "        #print(type(i))\n",
    "        K = float(i[7,7].sum()) +  float(i[21,14].sum())\n",
    "        pred.append(closest(lst,K))\n",
    "        true.append(numbers.index(number))"
   ]
  },
  {
   "cell_type": "code",
   "execution_count": 51,
   "metadata": {},
   "outputs": [
    {
     "data": {
      "text/plain": [
       "array([[ 4, 27,  0, 53,  0,  6,  2,  5,  1,  2],\n",
       "       [ 7, 30,  0, 50,  0,  2,  4,  4,  2,  1],\n",
       "       [ 3, 34,  3, 50,  1,  1,  4,  3,  0,  1],\n",
       "       [ 5, 29,  2, 53,  4,  2,  2,  1,  0,  2],\n",
       "       [ 3, 61,  0, 26,  1,  5,  1,  3,  0,  0],\n",
       "       [ 0, 48,  0, 41,  0,  3,  1,  6,  1,  0],\n",
       "       [ 7, 16,  0, 65,  0,  5,  6,  1,  0,  0],\n",
       "       [ 3, 37,  0, 54,  0,  1,  1,  1,  2,  1],\n",
       "       [ 3, 53,  1, 35,  0,  0,  2,  4,  1,  1],\n",
       "       [ 6, 64,  1, 17,  2,  3,  4,  2,  1,  0]])"
      ]
     },
     "execution_count": 51,
     "metadata": {},
     "output_type": "execute_result"
    }
   ],
   "source": [
    "confusion_matrix(true, pred)"
   ]
  },
  {
   "cell_type": "code",
   "execution_count": 52,
   "metadata": {},
   "outputs": [
    {
     "data": {
      "image/png": "[encoded data removed]",
      "text/plain": [
       "<Figure size 432x288 with 2 Axes>"
      ]
     },
     "metadata": {
      "needs_background": "light"
     },
     "output_type": "display_data"
    }
   ],
   "source": [
    "# Plot Confusion matrix\n",
    "cm = confusion_matrix(true, pred) #pred[::-1]\n",
    "f = sns.heatmap(cm)"
   ]
  },
  {
   "cell_type": "code",
   "execution_count": 53,
   "metadata": {},
   "outputs": [
    {
     "name": "stdout",
     "output_type": "stream",
     "text": [
      "Classification report for classifier:\n",
      "              precision    recall  f1-score   support\n",
      "\n",
      "           0       0.10      0.04      0.06       100\n",
      "           1       0.08      0.30      0.12       100\n",
      "           2       0.43      0.03      0.06       100\n",
      "           3       0.12      0.53      0.19       100\n",
      "           4       0.12      0.01      0.02       100\n",
      "           5       0.11      0.03      0.05       100\n",
      "           6       0.22      0.06      0.09       100\n",
      "           7       0.03      0.01      0.02       100\n",
      "           8       0.12      0.01      0.02       100\n",
      "           9       0.00      0.00      0.00       100\n",
      "\n",
      "    accuracy                           0.10      1000\n",
      "   macro avg       0.13      0.10      0.06      1000\n",
      "weighted avg       0.13      0.10      0.06      1000\n",
      "\n",
      "\n"
     ]
    }
   ],
   "source": [
    "print(f\"Classification report for classifier:\\n\"\n",
    "      f\"{metrics.classification_report(true, pred)}\\n\")"
   ]
  },
  {
   "cell_type": "code",
   "execution_count": 54,
   "metadata": {},
   "outputs": [
    {
     "data": {
      "image/png": "[encoded data removed]",
      "text/plain": [
       "<Figure size 1440x576 with 10 Axes>"
      ]
     },
     "metadata": {
      "needs_background": "light"
     },
     "output_type": "display_data"
    }
   ],
   "source": [
    "# Print \"ideal\" digits\n",
    "h=[]\n",
    "for number in numbers:\n",
    "    t=d[number][0]/255\n",
    "    for i in range(len(d[number])):\n",
    "        t+=d[number][i]/255\n",
    "    h.append(t)\n",
    "fig, axes = plt.subplots(nrows=1, ncols=10, figsize=(20,8))\n",
    "for i in range(0,10):\n",
    "    axes[i].imshow(h[i])\n",
    "    axes[i].plot(7,7, 'ro')\n",
    "    axes[i].plot(21,14, 'ro')"
   ]
  },
  {
   "cell_type": "markdown",
   "metadata": {},
   "source": [
    "We can see that the efficency of this algorithms relies heavily on where the points are placed. The two values I chose very by far not ideal placed as we can see from above graphic. So it probably will result in better accuracy values with more points and better places points (e.g. the white space within the 9 or 8, etc.). But keep in mind that the more points this algorithms uses the more it brings the same results as the `Average-Ink` Algorithm."
   ]
  },
  {
   "cell_type": "markdown",
   "metadata": {},
   "source": [
    "👨‍🏫 The `Random-Points` Algorithm gives only 10% accuracy. But it heavily depends on where to place the points and how many. So it is improvable ..."
   ]
  },
  {
   "cell_type": "code",
   "execution_count": null,
   "metadata": {},
   "outputs": [],
   "source": []
  }
 ],
 "metadata": {
  "kernelspec": {
   "display_name": "Python 3",
   "language": "python",
   "name": "python3"
  },
  "language_info": {
   "codemirror_mode": {
    "name": "ipython",
    "version": 3
   },
   "file_extension": ".py",
   "mimetype": "text/x-python",
   "name": "python",
   "nbconvert_exporter": "python",
   "pygments_lexer": "ipython3",
   "version": "3.8.3"
  }
 },
 "nbformat": 4,
 "nbformat_minor": 4
}
