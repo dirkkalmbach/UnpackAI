{
 "cells": [
  {
   "cell_type": "markdown",
   "metadata": {},
   "source": [
    "# [Statistics for an Athletic Association](https://www.codewars.com/kata/55b3425df71c1201a800009c/python)"
   ]
  },
  {
   "cell_type": "markdown",
   "metadata": {},
   "source": [
    "## Task: You are the Data Analyst at a Marathon \n",
    "> 👨🏻‍💻 Calculate statistics (mean, median, range) for every team!\n",
    "--- \n",
    "_for example:_\n",
    "## Team 1: 🏃‍♂️🏃🏽🏃🏿‍♀️🏃🏿‍♀️🏃🏿‍♀️ \n",
    "🗒 = `\"01|15|59, 1|47|16, 01|17|20, 1|32|34, 2|17|17\"`  \n",
    "✅ = `\"Range: 01|01|18 Average: 01|38|05 Median: 01|32|34\"`   \n",
    "\n",
    "## Team 2: 🏃🏿‍♀️🏃🏿‍♀️ \n",
    "🗒 = `\"01|15|59, 01|15|59\"`   \n",
    "✅ = `\"Range: 00|00|00 Average: 01|15|59 Median: 01|15|59\"`   \n",
    "\n",
    "## Team 3: 🤷🏻‍♂️\n",
    "🗒 = `\"\"`     \n",
    "✅ = `\"\"`"
   ]
  },
  {
   "cell_type": "code",
   "execution_count": 51,
   "metadata": {},
   "outputs": [],
   "source": [
    "# Import Statements\n",
    "from statistics import median\n",
    "\n",
    "# Helper Functions\n",
    "def time_to_seconds(time):\n",
    "    ''' converts a time like: [\"hh\"|\"mm\"|\"ss\"]\" \n",
    "        into seconds (int)\n",
    "    '''\n",
    "    h, m, s = time.split(\"|\")\n",
    "    seconds = int(h)*3600 + int(m)*60 + int(s)\n",
    "    \n",
    "    return seconds\n",
    "\n",
    "def seconds_to_time(seconds):\n",
    "    ''' converts seconds (float)\n",
    "        into time like: [\"hh\",\"mm\",\"ss\"]\"\n",
    "    '''\n",
    "    hours = seconds // 3600\n",
    "    minutes = (seconds % 3600) // 60\n",
    "    seconds = (seconds % 60)\n",
    "    \n",
    "    # convert to str\n",
    "    h = str(hours)\n",
    "    m = str(minutes)\n",
    "    s = str(seconds)\n",
    "    \n",
    "    # convert to two-digit format (e.g.: \"02\")\n",
    "    if len(h)==1:\n",
    "        h = \"0\"+str(h)\n",
    "    if len(m)==1:\n",
    "        m = \"0\"+str(m)      \n",
    "    if len(s)==1:\n",
    "        s = \"0\"+str(s)  \n",
    "        \n",
    "    return [h, m, s]\n",
    "\n",
    "\n",
    "###################################################\n",
    "# Main Function \n",
    "###################################################\n",
    "\n",
    "def stat(strg):\n",
    "    ''' calculates mean, median and range from a list of athletes running times and present in a predefined way\n",
    "    '''\n",
    "    if strg == \"\":\n",
    "        return \"\"\n",
    "    else:\n",
    "        athlets = strg.split(\",\")\n",
    "\n",
    "        # get list of running time in sec for every athlet by using helper function\n",
    "        athlets_seconds = [time_to_seconds(athlet) for athlet in athlets]\n",
    "\n",
    "        # get stats\n",
    "        Mean = int(sum(athlets_seconds)/len(athlets_seconds))\n",
    "        Range = int(max(athlets_seconds) - min(athlets_seconds))\n",
    "        Median = int(median(athlets_seconds))\n",
    "\n",
    "        # convert stats into [hour|min|sec] format by using helper function\n",
    "        range_list = seconds_to_time(Range)\n",
    "        range_str = \"Range: {}|{}|{}\".format(*range_list)   # 👈🏻 Jeffs hint\n",
    "\n",
    "        mean_list = seconds_to_time(Mean)\n",
    "        avg_str = \"Average: {}|{}|{}\".format(mean_list[0],mean_list[1],mean_list[2])\n",
    "\n",
    "        median_list = seconds_to_time(Median)\n",
    "        median_str = \"Median: {}|{}|{}\".format(median_list[0],median_list[1],median_list[2])\n",
    "\n",
    "        return range_str + \" \" + avg_str + \" \" + median_str"
   ]
  },
  {
   "cell_type": "markdown",
   "metadata": {},
   "source": [
    "### Test my code"
   ]
  },
  {
   "cell_type": "code",
   "execution_count": 47,
   "metadata": {},
   "outputs": [
    {
     "data": {
      "text/plain": [
       "True"
      ]
     },
     "execution_count": 47,
     "metadata": {},
     "output_type": "execute_result"
    }
   ],
   "source": [
    "stat(\"01|15|59, 1|47|16, 01|17|20, 1|32|34, 2|17|17\") == \"Range: 01|01|18 Average: 01|38|05 Median: 01|32|34\""
   ]
  },
  {
   "cell_type": "code",
   "execution_count": 48,
   "metadata": {},
   "outputs": [
    {
     "data": {
      "text/plain": [
       "True"
      ]
     },
     "execution_count": 48,
     "metadata": {},
     "output_type": "execute_result"
    }
   ],
   "source": [
    "stat(\"02|15|59, 2|47|16, 02|17|20, 2|32|34, 2|17|17, 2|22|00, 2|31|41\") == \"Range: 00|31|17 Average: 02|26|18 Median: 02|22|00\""
   ]
  },
  {
   "cell_type": "code",
   "execution_count": 49,
   "metadata": {},
   "outputs": [
    {
     "data": {
      "text/plain": [
       "True"
      ]
     },
     "execution_count": 49,
     "metadata": {},
     "output_type": "execute_result"
    }
   ],
   "source": [
    "stat(\"01|15|59, 01|15|59\") == \"Range: 00|00|00 Average: 01|15|59 Median: 01|15|59\""
   ]
  },
  {
   "cell_type": "code",
   "execution_count": 50,
   "metadata": {},
   "outputs": [
    {
     "data": {
      "text/plain": [
       "True"
      ]
     },
     "execution_count": 50,
     "metadata": {},
     "output_type": "execute_result"
    }
   ],
   "source": [
    "stat(\"\") == \"\""
   ]
  },
  {
   "cell_type": "markdown",
   "metadata": {},
   "source": [
    "# Alternative Solutions"
   ]
  },
  {
   "cell_type": "markdown",
   "metadata": {},
   "source": [
    "### Use Pythons Build-in `time` module\n",
    "_I googled for `python convert seconds into hours minutes seconds`_ -> https://www.askpython.com/python/examples/convert-seconds-hours-minutes"
   ]
  },
  {
   "cell_type": "code",
   "execution_count": 15,
   "metadata": {},
   "outputs": [
    {
     "name": "stdout",
     "output_type": "stream",
     "text": [
      "01|00|01\n"
     ]
    }
   ],
   "source": [
    "import time\n",
    "seconds = 3601\n",
    "ty_res = time.gmtime(seconds)\n",
    "result = time.strftime(\"%H|%M|%S\",ty_res)\n",
    "print(result)"
   ]
  }
 ],
 "metadata": {
  "kernelspec": {
   "display_name": "Python 3",
   "language": "python",
   "name": "python3"
  },
  "language_info": {
   "codemirror_mode": {
    "name": "ipython",
    "version": 3
   },
   "file_extension": ".py",
   "mimetype": "text/x-python",
   "name": "python",
   "nbconvert_exporter": "python",
   "pygments_lexer": "ipython3",
   "version": "3.8.3"
  }
 },
 "nbformat": 4,
 "nbformat_minor": 4
}
